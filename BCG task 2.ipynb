{
 "cells": [
  {
   "cell_type": "markdown",
   "metadata": {
    "colab_type": "text",
    "id": "view-in-github"
   },
   "source": [
    "<a href=\"https://colab.research.google.com/github/srgarcess/BCG/blob/main/task2/EDA_Cleaning_BCG.ipynb\" target=\"_parent\"><img src=\"https://colab.research.google.com/assets/colab-badge.svg\" alt=\"Open In Colab\"/></a>"
   ]
  },
  {
   "cell_type": "markdown",
   "metadata": {
    "id": "UnvAhtPJWKii"
   },
   "source": [
    "\n",
    "\n",
    "# **Exploratory Data Analysis and Cleaning**\n",
    "By Godine Anvesh\n",
    "\n",
    "\n",
    "\n",
    "\n",
    "\n",
    "\n",
    "\n"
   ]
  },
  {
   "cell_type": "markdown",
   "metadata": {
    "id": "jBleU0BS_ib9"
   },
   "source": [
    "## **The Datasets**\n",
    "\n",
    "The dataset `ml_case_training_output.csv` named as `pco_output` contains:\n",
    "> * `id`: contact id\n",
    "*`churn`: has the client churned over the next 3 months\n",
    "\n",
    "\n",
    "The dataset `ml_case_training_hist_data.csv` named as `pco_hist` contains the history of energy and power consumption per client:\n",
    ">* `id`: contact id\n",
    "*`price_date`: reference date\n",
    "*`price_p1_var`: price of energy for the 1st period\n",
    "*`price_p2_var`: price of energy for the 2nd period\n",
    "*`price_p3_var`: price of energy for the 3rd period\n",
    "*`price_p1_fix`: price of power for the 1st period\n",
    "*`price_p2_fix`: price of power for the 2nd period\n",
    "*`price_p3_fix`: price of power for the 3rd period\n",
    "\n",
    "\n",
    "The dataset `ml_case_training_data.csv` contains:\n",
    ">* `id`: contact id\n",
    "* `activity_new`: category of the company's activity. 419 unique values, remove `NaN`\n",
    "* `campaign_disc_elec`: code of the electricity campaign the customer last subscribed to. 0 non-null\n",
    "* `channel_sales`: code of the sales channel\n",
    "* `cons_12m`: electricity consumption of the past 12 months\n",
    "* `cons_gas_12m`: gas consumption of the past 12 months\n",
    "* `cons_last_month`: electricity consupmtion of the last month\n",
    "* `date_activ`: date of activation of the contract\n",
    "* `date_end`: registered date of the end of the contract\n",
    "* `date_first_activ`: date of first contract of the client\n",
    "* `date_modif_prod`: date of last modification of the product\n",
    "*  `date_renewal`: date of the next contract renewal\n",
    "* `forecast_base_bill_ele`: forecasted electricity bill baseline for next month\n",
    "* `forecast_base_bill_year`: forecasted electricity bill baseline for calendar year\n",
    "* `forecast_bill_12m`: forecasted electricity bill baseline for 12 months\n",
    "* `forecast_cons`: forecasted electricity consumption for next month\n",
    "* `forecast_cons_12m`: forecasted electricity consumption for next 12 months\n",
    "* `forecast_cons_year`: forecasted electricity consumption for next calendar year\n",
    "* `forecast_discount_energy`: forecasted value of current discount\n",
    "* `forecast_meter_rent_12m`: forecasted bill of meter rental for the next 12 months\n",
    "* `forecast_price_energy_p1`: forecasted energy price for 1st period\n",
    "* `forecast_price_energy_p2`: forecasted energy price for 2nd period\n",
    "* `forecast_price_pow_p1`: forecasted power price for 1st period\n",
    "* `has_gas`: indicated if client is also a gas client\n",
    "* `imp_cons`: current paid consumption\n",
    "* `margin_gross_pow_ele`: gross margin on power subscription\n",
    "* `margin_net_pow_ele`: net margin on power subscription\n",
    "* `nb_prod_act`: number of active products and services\n",
    "* `net_margin`: total net margin\n",
    "* `num_years_antig`: antiquity of the client (in number of years)\n",
    "* `origin_up`: code of the electricity campaign the customer first subscribed to\n",
    "* `pow_max`: subscribed power"
   ]
  },
  {
   "cell_type": "markdown",
   "metadata": {
    "id": "dv8p0_kw_qT9"
   },
   "source": [
    "## **Importing Libraries and Datasets**\n",
    "\n",
    "In this section we import the libraries of interest as well as the datasets."
   ]
  },
  {
   "cell_type": "code",
   "execution_count": 12,
   "metadata": {
    "id": "taBNAOwoLJCf",
    "scrolled": true
   },
   "outputs": [
    {
     "ename": "ModuleNotFoundError",
     "evalue": "No module named 'missingno'",
     "output_type": "error",
     "traceback": [
      "\u001b[1;31m---------------------------------------------------------------------------\u001b[0m",
      "\u001b[1;31mModuleNotFoundError\u001b[0m                       Traceback (most recent call last)",
      "\u001b[1;32m<ipython-input-12-6e57b2ffb236>\u001b[0m in \u001b[0;36m<module>\u001b[1;34m\u001b[0m\n\u001b[0;32m      4\u001b[0m \u001b[1;32mimport\u001b[0m \u001b[0mseaborn\u001b[0m \u001b[1;32mas\u001b[0m \u001b[0msns\u001b[0m\u001b[1;33m\u001b[0m\u001b[1;33m\u001b[0m\u001b[0m\n\u001b[0;32m      5\u001b[0m \u001b[1;32mimport\u001b[0m \u001b[0mnumpy\u001b[0m \u001b[1;32mas\u001b[0m \u001b[0mnp\u001b[0m\u001b[1;33m\u001b[0m\u001b[1;33m\u001b[0m\u001b[0m\n\u001b[1;32m----> 6\u001b[1;33m \u001b[1;32mimport\u001b[0m \u001b[0mmissingno\u001b[0m \u001b[1;32mas\u001b[0m \u001b[0mmsno\u001b[0m\u001b[1;33m\u001b[0m\u001b[1;33m\u001b[0m\u001b[0m\n\u001b[0m\u001b[0;32m      7\u001b[0m \u001b[1;32mfrom\u001b[0m \u001b[0mscipy\u001b[0m\u001b[1;33m.\u001b[0m\u001b[0mstats\u001b[0m \u001b[1;32mimport\u001b[0m \u001b[0mzscore\u001b[0m \u001b[1;32mas\u001b[0m \u001b[0mzscore\u001b[0m\u001b[1;33m\u001b[0m\u001b[1;33m\u001b[0m\u001b[0m\n",
      "\u001b[1;31mModuleNotFoundError\u001b[0m: No module named 'missingno'"
     ]
    }
   ],
   "source": [
    "# Import libraries\n",
    "import pandas as pd\n",
    "import matplotlib.pyplot as plt\n",
    "import seaborn as sns\n",
    "import numpy as np\n",
    "import missingno as msno\n",
    "from scipy.stats import zscore as zscore"
   ]
  },
  {
   "cell_type": "code",
   "execution_count": null,
   "metadata": {
    "id": "ssgfuoefZR_u"
   },
   "outputs": [],
   "source": [
    "# Read in dataset\n",
    "url = 'https://raw.githubusercontent.com/godineanvesh/BCG-Forage-Task/main/ml_case_training_data.csv'\n",
    "url2 = 'https://raw.githubusercontent.com/godineanvesh/BCG-Forage-Task/main/ml_case-training_hist_data.csv'\n",
    "url3 = 'https://raw.githubusercontent.com/godineanvesh/BCG-Forage-Task/main/ml_case_tarining_output.csv'\n",
    "# list of dates\n",
    "dt_lst = ['date_activ','date_end','date_first_activ','date_modif_prod','date_renewal']\n",
    "\n",
    "# data importing          \n",
    "pco_main = pd.read_csv(url, parse_dates=dt_lst)#, index_col= 'date_activ')\n",
    "pco_hist = pd.read_csv(url2, parse_dates=['price_date']) # Yearly history of consumption per user\n",
    "pco_output = pd.read_csv(url3)\n",
    "pd.set_option('display.max_columns',None)"
   ]
  },
  {
   "cell_type": "markdown",
   "metadata": {
    "id": "Isa4BQRnZPPb"
   },
   "source": [
    "#**Data Exploration**"
   ]
  },
  {
   "cell_type": "markdown",
   "metadata": {
    "id": "breBIS1DB2yl"
   },
   "source": [
    "## **The Output Dataset**\n",
    "\n",
    "From the output dataset we can derive a quick insight on customer retention. "
   ]
  },
  {
   "cell_type": "code",
   "execution_count": null,
   "metadata": {
    "colab": {
     "base_uri": "https://localhost:8080/",
     "height": 0
    },
    "id": "fFUJFEZ5COiZ",
    "outputId": "2b548683-8285-45cd-d3a2-461271dbd47e"
   },
   "outputs": [],
   "source": [
    "# Replace the churn column with appropiate labels\n",
    "pco_output['churn'] = pco_output['churn'].replace({0:'Stayed',1:'Churned'})\n",
    "\n",
    "# Glimpse\n",
    "pco_output.head()"
   ]
  },
  {
   "cell_type": "code",
   "execution_count": null,
   "metadata": {
    "colab": {
     "base_uri": "https://localhost:8080/"
    },
    "id": "zM4TS-mCH3HR",
    "outputId": "33d3e0c9-951f-4695-ce4f-65920ed29c25"
   },
   "outputs": [],
   "source": [
    "# What number of customers have churned in the last 3 months?\n",
    "attrition_count = pco_output['churn'].value_counts()\n",
    "print('Total Number of Churned Customers:\\n', attrition_count)"
   ]
  },
  {
   "cell_type": "code",
   "execution_count": null,
   "metadata": {
    "colab": {
     "base_uri": "https://localhost:8080/"
    },
    "id": "_Jhul2emn_fI",
    "outputId": "76b1f13c-e0fe-42b3-8015-be982c54c1eb"
   },
   "outputs": [],
   "source": [
    "# What is the proportion of customer attrition in the last 3 months?\n",
    "attrition_rate = pco_output['churn'].value_counts() / pco_output.shape[0] * 100\n",
    "print('Attrition rate: \\n', attrition_rate)"
   ]
  },
  {
   "cell_type": "markdown",
   "metadata": {
    "id": "t43NSxmPnXd3"
   },
   "source": [
    "---\n",
    "###**Facts**\n",
    "> * In the last 3 months 1,595 customers have churned\n",
    "* There are currently 14,501 active clients\n",
    "* Customer retention is 90% in the last 3 months \n",
    "* Customer attrition is 10% in the last 3 months"
   ]
  },
  {
   "cell_type": "markdown",
   "metadata": {
    "id": "07AbdCXFFnjx"
   },
   "source": [
    "---\n",
    "###**Observations**\n",
    "* Dataset has complete cases\n"
   ]
  },
  {
   "cell_type": "markdown",
   "metadata": {
    "id": "5RBczv7eDFFL"
   },
   "source": [
    "## **The History Dataset**\n",
    "\n",
    "This dataset contains 1-year historical data for each client. It provides insights of the yearly activity of each client. "
   ]
  },
  {
   "cell_type": "code",
   "execution_count": 13,
   "metadata": {
    "colab": {
     "base_uri": "https://localhost:8080/",
     "height": 0
    },
    "id": "JT34m7-uK1vY",
    "outputId": "a6fedef6-a1e9-4d60-c6ed-ff7cc554f315"
   },
   "outputs": [
    {
     "data": {
      "text/html": [
       "<div>\n",
       "<style scoped>\n",
       "    .dataframe tbody tr th:only-of-type {\n",
       "        vertical-align: middle;\n",
       "    }\n",
       "\n",
       "    .dataframe tbody tr th {\n",
       "        vertical-align: top;\n",
       "    }\n",
       "\n",
       "    .dataframe thead th {\n",
       "        text-align: right;\n",
       "    }\n",
       "</style>\n",
       "<table border=\"1\" class=\"dataframe\">\n",
       "  <thead>\n",
       "    <tr style=\"text-align: right;\">\n",
       "      <th></th>\n",
       "      <th>id</th>\n",
       "      <th>price_date</th>\n",
       "      <th>price_p1_var</th>\n",
       "      <th>price_p2_var</th>\n",
       "      <th>price_p3_var</th>\n",
       "      <th>price_p1_fix</th>\n",
       "      <th>price_p2_fix</th>\n",
       "      <th>price_p3_fix</th>\n",
       "    </tr>\n",
       "  </thead>\n",
       "  <tbody>\n",
       "    <tr>\n",
       "      <th>0</th>\n",
       "      <td>038af19179925da21a25619c5a24b745</td>\n",
       "      <td>2015-01-01</td>\n",
       "      <td>0.151367</td>\n",
       "      <td>0.0</td>\n",
       "      <td>0.0</td>\n",
       "      <td>44.266931</td>\n",
       "      <td>0.0</td>\n",
       "      <td>0.0</td>\n",
       "    </tr>\n",
       "    <tr>\n",
       "      <th>1</th>\n",
       "      <td>038af19179925da21a25619c5a24b745</td>\n",
       "      <td>2015-01-02</td>\n",
       "      <td>0.151367</td>\n",
       "      <td>0.0</td>\n",
       "      <td>0.0</td>\n",
       "      <td>44.266931</td>\n",
       "      <td>0.0</td>\n",
       "      <td>0.0</td>\n",
       "    </tr>\n",
       "    <tr>\n",
       "      <th>2</th>\n",
       "      <td>038af19179925da21a25619c5a24b745</td>\n",
       "      <td>2015-01-03</td>\n",
       "      <td>0.151367</td>\n",
       "      <td>0.0</td>\n",
       "      <td>0.0</td>\n",
       "      <td>44.266931</td>\n",
       "      <td>0.0</td>\n",
       "      <td>0.0</td>\n",
       "    </tr>\n",
       "    <tr>\n",
       "      <th>3</th>\n",
       "      <td>038af19179925da21a25619c5a24b745</td>\n",
       "      <td>2015-01-04</td>\n",
       "      <td>0.149626</td>\n",
       "      <td>0.0</td>\n",
       "      <td>0.0</td>\n",
       "      <td>44.266931</td>\n",
       "      <td>0.0</td>\n",
       "      <td>0.0</td>\n",
       "    </tr>\n",
       "    <tr>\n",
       "      <th>4</th>\n",
       "      <td>038af19179925da21a25619c5a24b745</td>\n",
       "      <td>2015-01-05</td>\n",
       "      <td>0.149626</td>\n",
       "      <td>0.0</td>\n",
       "      <td>0.0</td>\n",
       "      <td>44.266931</td>\n",
       "      <td>0.0</td>\n",
       "      <td>0.0</td>\n",
       "    </tr>\n",
       "  </tbody>\n",
       "</table>\n",
       "</div>"
      ],
      "text/plain": [
       "                                 id price_date  price_p1_var  price_p2_var  \\\n",
       "0  038af19179925da21a25619c5a24b745 2015-01-01      0.151367           0.0   \n",
       "1  038af19179925da21a25619c5a24b745 2015-01-02      0.151367           0.0   \n",
       "2  038af19179925da21a25619c5a24b745 2015-01-03      0.151367           0.0   \n",
       "3  038af19179925da21a25619c5a24b745 2015-01-04      0.149626           0.0   \n",
       "4  038af19179925da21a25619c5a24b745 2015-01-05      0.149626           0.0   \n",
       "\n",
       "   price_p3_var  price_p1_fix  price_p2_fix  price_p3_fix  \n",
       "0           0.0     44.266931           0.0           0.0  \n",
       "1           0.0     44.266931           0.0           0.0  \n",
       "2           0.0     44.266931           0.0           0.0  \n",
       "3           0.0     44.266931           0.0           0.0  \n",
       "4           0.0     44.266931           0.0           0.0  "
      ]
     },
     "execution_count": 13,
     "metadata": {},
     "output_type": "execute_result"
    }
   ],
   "source": [
    "# Display the yearly consumption of energy and power of customers\n",
    "pco_hist.head()"
   ]
  },
  {
   "cell_type": "code",
   "execution_count": 14,
   "metadata": {
    "colab": {
     "base_uri": "https://localhost:8080/"
    },
    "id": "GOlyrtDyPfPp",
    "outputId": "618826f8-1f8a-4196-a404-f6adb40c1593"
   },
   "outputs": [
    {
     "name": "stdout",
     "output_type": "stream",
     "text": [
      "<class 'pandas.core.frame.DataFrame'>\n",
      "RangeIndex: 193002 entries, 0 to 193001\n",
      "Data columns (total 8 columns):\n",
      " #   Column        Non-Null Count   Dtype         \n",
      "---  ------        --------------   -----         \n",
      " 0   id            193002 non-null  object        \n",
      " 1   price_date    193002 non-null  datetime64[ns]\n",
      " 2   price_p1_var  191643 non-null  float64       \n",
      " 3   price_p2_var  191643 non-null  float64       \n",
      " 4   price_p3_var  191643 non-null  float64       \n",
      " 5   price_p1_fix  191643 non-null  float64       \n",
      " 6   price_p2_fix  191643 non-null  float64       \n",
      " 7   price_p3_fix  191643 non-null  float64       \n",
      "dtypes: datetime64[ns](1), float64(6), object(1)\n",
      "memory usage: 11.8+ MB\n"
     ]
    }
   ],
   "source": [
    "# Examing the structure of the dataframe\n",
    "pco_hist.info()"
   ]
  },
  {
   "cell_type": "code",
   "execution_count": 15,
   "metadata": {
    "colab": {
     "base_uri": "https://localhost:8080/",
     "height": 0
    },
    "id": "J6yAm-cNQnnN",
    "outputId": "5ff20c85-d4e1-4eda-81d3-c7cd9cc78e33"
   },
   "outputs": [
    {
     "data": {
      "text/html": [
       "<div>\n",
       "<style scoped>\n",
       "    .dataframe tbody tr th:only-of-type {\n",
       "        vertical-align: middle;\n",
       "    }\n",
       "\n",
       "    .dataframe tbody tr th {\n",
       "        vertical-align: top;\n",
       "    }\n",
       "\n",
       "    .dataframe thead th {\n",
       "        text-align: right;\n",
       "    }\n",
       "</style>\n",
       "<table border=\"1\" class=\"dataframe\">\n",
       "  <thead>\n",
       "    <tr style=\"text-align: right;\">\n",
       "      <th></th>\n",
       "      <th>price_p1_var</th>\n",
       "      <th>price_p2_var</th>\n",
       "      <th>price_p3_var</th>\n",
       "      <th>price_p1_fix</th>\n",
       "      <th>price_p2_fix</th>\n",
       "      <th>price_p3_fix</th>\n",
       "    </tr>\n",
       "  </thead>\n",
       "  <tbody>\n",
       "    <tr>\n",
       "      <th>count</th>\n",
       "      <td>191643.000000</td>\n",
       "      <td>191643.000000</td>\n",
       "      <td>191643.000000</td>\n",
       "      <td>191643.000000</td>\n",
       "      <td>191643.000000</td>\n",
       "      <td>191643.000000</td>\n",
       "    </tr>\n",
       "    <tr>\n",
       "      <th>mean</th>\n",
       "      <td>0.140991</td>\n",
       "      <td>0.054412</td>\n",
       "      <td>0.030712</td>\n",
       "      <td>43.325546</td>\n",
       "      <td>10.698201</td>\n",
       "      <td>6.455436</td>\n",
       "    </tr>\n",
       "    <tr>\n",
       "      <th>std</th>\n",
       "      <td>0.025117</td>\n",
       "      <td>0.050033</td>\n",
       "      <td>0.036335</td>\n",
       "      <td>5.437952</td>\n",
       "      <td>12.856046</td>\n",
       "      <td>7.782279</td>\n",
       "    </tr>\n",
       "    <tr>\n",
       "      <th>min</th>\n",
       "      <td>0.000000</td>\n",
       "      <td>0.000000</td>\n",
       "      <td>0.000000</td>\n",
       "      <td>-0.177779</td>\n",
       "      <td>-0.097752</td>\n",
       "      <td>-0.065172</td>\n",
       "    </tr>\n",
       "    <tr>\n",
       "      <th>25%</th>\n",
       "      <td>0.125976</td>\n",
       "      <td>0.000000</td>\n",
       "      <td>0.000000</td>\n",
       "      <td>40.728885</td>\n",
       "      <td>0.000000</td>\n",
       "      <td>0.000000</td>\n",
       "    </tr>\n",
       "    <tr>\n",
       "      <th>50%</th>\n",
       "      <td>0.146033</td>\n",
       "      <td>0.085483</td>\n",
       "      <td>0.000000</td>\n",
       "      <td>44.266930</td>\n",
       "      <td>0.000000</td>\n",
       "      <td>0.000000</td>\n",
       "    </tr>\n",
       "    <tr>\n",
       "      <th>75%</th>\n",
       "      <td>0.151635</td>\n",
       "      <td>0.101780</td>\n",
       "      <td>0.072558</td>\n",
       "      <td>44.444710</td>\n",
       "      <td>24.339581</td>\n",
       "      <td>16.226389</td>\n",
       "    </tr>\n",
       "    <tr>\n",
       "      <th>max</th>\n",
       "      <td>0.280700</td>\n",
       "      <td>0.229788</td>\n",
       "      <td>0.114102</td>\n",
       "      <td>59.444710</td>\n",
       "      <td>36.490692</td>\n",
       "      <td>17.458221</td>\n",
       "    </tr>\n",
       "  </tbody>\n",
       "</table>\n",
       "</div>"
      ],
      "text/plain": [
       "        price_p1_var   price_p2_var   price_p3_var   price_p1_fix  \\\n",
       "count  191643.000000  191643.000000  191643.000000  191643.000000   \n",
       "mean        0.140991       0.054412       0.030712      43.325546   \n",
       "std         0.025117       0.050033       0.036335       5.437952   \n",
       "min         0.000000       0.000000       0.000000      -0.177779   \n",
       "25%         0.125976       0.000000       0.000000      40.728885   \n",
       "50%         0.146033       0.085483       0.000000      44.266930   \n",
       "75%         0.151635       0.101780       0.072558      44.444710   \n",
       "max         0.280700       0.229788       0.114102      59.444710   \n",
       "\n",
       "        price_p2_fix   price_p3_fix  \n",
       "count  191643.000000  191643.000000  \n",
       "mean       10.698201       6.455436  \n",
       "std        12.856046       7.782279  \n",
       "min        -0.097752      -0.065172  \n",
       "25%         0.000000       0.000000  \n",
       "50%         0.000000       0.000000  \n",
       "75%        24.339581      16.226389  \n",
       "max        36.490692      17.458221  "
      ]
     },
     "execution_count": 15,
     "metadata": {},
     "output_type": "execute_result"
    }
   ],
   "source": [
    "# Examine the descriptive statistics of the dataframe\n",
    "pco_hist.describe()"
   ]
  },
  {
   "cell_type": "code",
   "execution_count": 16,
   "metadata": {
    "colab": {
     "base_uri": "https://localhost:8080/"
    },
    "id": "hiTFUKQsQtVC",
    "outputId": "260889e5-d8a3-4d43-9325-bfa513cd0b6c"
   },
   "outputs": [
    {
     "name": "stdout",
     "output_type": "stream",
     "text": [
      "Total Missing Values:\n",
      " id                 0\n",
      "price_date         0\n",
      "price_p1_var    1359\n",
      "price_p2_var    1359\n",
      "price_p3_var    1359\n",
      "price_p1_fix    1359\n",
      "price_p2_fix    1359\n",
      "price_p3_fix    1359\n",
      "dtype: int64\n"
     ]
    }
   ],
   "source": [
    "# Identify the nullity of the dataframe\n",
    "missing_values_hist = pco_hist.isna().sum()\n",
    "print('Total Missing Values:\\n', missing_values_hist)"
   ]
  },
  {
   "cell_type": "code",
   "execution_count": 17,
   "metadata": {
    "colab": {
     "base_uri": "https://localhost:8080/"
    },
    "id": "GIlVs6FF61Io",
    "outputId": "080d9e3a-edea-4b68-f223-baf314d6c3d6"
   },
   "outputs": [
    {
     "name": "stdout",
     "output_type": "stream",
     "text": [
      "Percentage of Missing Values:\n",
      " id              0.000000\n",
      "price_date      0.000000\n",
      "price_p1_var    0.704138\n",
      "price_p2_var    0.704138\n",
      "price_p3_var    0.704138\n",
      "price_p1_fix    0.704138\n",
      "price_p2_fix    0.704138\n",
      "price_p3_fix    0.704138\n",
      "dtype: float64\n"
     ]
    }
   ],
   "source": [
    "# Identify the percentage of nullity in the dataframe for each collumn\n",
    "missing_values_hist_perc = pco_hist.isnull().mean() * 100\n",
    "print('Percentage of Missing Values:\\n', missing_values_hist_perc)"
   ]
  },
  {
   "cell_type": "markdown",
   "metadata": {
    "id": "aX8UhqV3uOWY"
   },
   "source": [
    "# Facts\n",
    "\n",
    "\n",
    "* The average price of energy for the 1st period was: $0.14\n",
    "* The average price of energy for the 2nd period was: \\$0.05\n",
    "* The average price of energy for the 3rd period was: \\$0.03\n",
    "\n",
    "*The average price of energy was declining in the last year*.\n",
    "\n",
    "* The average power of power for the 1st period was: \\$43.32\n",
    "* The average power of power for the 2nd period was: \\$10.69\n",
    "* The average power of power for the 3rd period was: \\$6.45\n",
    "\n",
    "*The average price of power was declining in the last year*.\n",
    "\n",
    "\n",
    "\n",
    "\n",
    "\n",
    "\n",
    "\n",
    "\n",
    "\n"
   ]
  },
  {
   "cell_type": "markdown",
   "metadata": {
    "id": "rH1xJar6GAw9"
   },
   "source": [
    "# Observations\n",
    "\n",
    "* The columns `price_p1_fix`, `price_p2_fix`, and `price_p3_fix` contain negative values. *These negative prices of power do not make sense.* \n",
    "\n",
    "* The dataset `pco_hist` contains 1359 rows displaying `NaN` values on 6 variables except for `id` and `price_date`.\n",
    "\n",
    "* The `price_..._var` and `price_..._fix` columns are missing **0.704%** of the data in each of them.\n",
    "\n",
    "Note: `Pandas` *recognizes these* `NaN` *values and removes them when displaying descriptives statistics*.\n",
    "\n",
    "*Notice how the price of energy has a minimum value of zero. Perhaps some customers churned thereby making the consumption of energy zero.*\n",
    "\n",
    "---"
   ]
  },
  {
   "cell_type": "markdown",
   "metadata": {
    "id": "jOgN20xWFKdj"
   },
   "source": [
    "# **The Main Dataset**\n",
    "\n",
    "This dataset contain more characteristics about each client's account and activity."
   ]
  },
  {
   "cell_type": "code",
   "execution_count": 18,
   "metadata": {
    "colab": {
     "base_uri": "https://localhost:8080/",
     "height": 309
    },
    "id": "3w9awwz_aQnW",
    "outputId": "6b183aa5-8a46-4c8f-94f5-c1f90f05c0ae",
    "scrolled": true
   },
   "outputs": [
    {
     "data": {
      "text/html": [
       "<div>\n",
       "<style scoped>\n",
       "    .dataframe tbody tr th:only-of-type {\n",
       "        vertical-align: middle;\n",
       "    }\n",
       "\n",
       "    .dataframe tbody tr th {\n",
       "        vertical-align: top;\n",
       "    }\n",
       "\n",
       "    .dataframe thead th {\n",
       "        text-align: right;\n",
       "    }\n",
       "</style>\n",
       "<table border=\"1\" class=\"dataframe\">\n",
       "  <thead>\n",
       "    <tr style=\"text-align: right;\">\n",
       "      <th></th>\n",
       "      <th>id</th>\n",
       "      <th>activity_new</th>\n",
       "      <th>campaign_disc_ele</th>\n",
       "      <th>channel_sales</th>\n",
       "      <th>cons_12m</th>\n",
       "      <th>cons_gas_12m</th>\n",
       "      <th>cons_last_month</th>\n",
       "      <th>date_activ</th>\n",
       "      <th>date_end</th>\n",
       "      <th>date_first_activ</th>\n",
       "      <th>date_modif_prod</th>\n",
       "      <th>date_renewal</th>\n",
       "      <th>forecast_base_bill_ele</th>\n",
       "      <th>forecast_base_bill_year</th>\n",
       "      <th>forecast_bill_12m</th>\n",
       "      <th>forecast_cons</th>\n",
       "      <th>forecast_cons_12m</th>\n",
       "      <th>forecast_cons_year</th>\n",
       "      <th>forecast_discount_energy</th>\n",
       "      <th>forecast_meter_rent_12m</th>\n",
       "      <th>forecast_price_energy_p1</th>\n",
       "      <th>forecast_price_energy_p2</th>\n",
       "      <th>forecast_price_pow_p1</th>\n",
       "      <th>has_gas</th>\n",
       "      <th>imp_cons</th>\n",
       "      <th>margin_gross_pow_ele</th>\n",
       "      <th>margin_net_pow_ele</th>\n",
       "      <th>nb_prod_act</th>\n",
       "      <th>net_margin</th>\n",
       "      <th>num_years_antig</th>\n",
       "      <th>origin_up</th>\n",
       "      <th>pow_max</th>\n",
       "    </tr>\n",
       "  </thead>\n",
       "  <tbody>\n",
       "    <tr>\n",
       "      <th>0</th>\n",
       "      <td>48ada52261e7cf58715202705a0451c9</td>\n",
       "      <td>esoiiifxdlbkcsluxmfuacbdckommixw</td>\n",
       "      <td>NaN</td>\n",
       "      <td>lmkebamcaaclubfxadlmueccxoimlema</td>\n",
       "      <td>309275</td>\n",
       "      <td>0</td>\n",
       "      <td>10025</td>\n",
       "      <td>2012-07-11</td>\n",
       "      <td>2016-06-11</td>\n",
       "      <td>NaT</td>\n",
       "      <td>2012-07-11</td>\n",
       "      <td>2015-09-11</td>\n",
       "      <td>NaN</td>\n",
       "      <td>NaN</td>\n",
       "      <td>NaN</td>\n",
       "      <td>NaN</td>\n",
       "      <td>26520.30</td>\n",
       "      <td>10025</td>\n",
       "      <td>0.0</td>\n",
       "      <td>359.29</td>\n",
       "      <td>0.095919</td>\n",
       "      <td>0.088347</td>\n",
       "      <td>58.995952</td>\n",
       "      <td>f</td>\n",
       "      <td>831.8</td>\n",
       "      <td>-41.76</td>\n",
       "      <td>-41.76</td>\n",
       "      <td>1</td>\n",
       "      <td>1732.36</td>\n",
       "      <td>3</td>\n",
       "      <td>ldkssxwpmemidmecebumciepifcamkci</td>\n",
       "      <td>180.000</td>\n",
       "    </tr>\n",
       "    <tr>\n",
       "      <th>1</th>\n",
       "      <td>24011ae4ebbe3035111d65fa7c15bc57</td>\n",
       "      <td>NaN</td>\n",
       "      <td>NaN</td>\n",
       "      <td>foosdfpfkusacimwkcsosbicdxkicaua</td>\n",
       "      <td>0</td>\n",
       "      <td>54946</td>\n",
       "      <td>0</td>\n",
       "      <td>2013-06-15</td>\n",
       "      <td>2016-06-15</td>\n",
       "      <td>NaT</td>\n",
       "      <td>NaT</td>\n",
       "      <td>2015-06-23</td>\n",
       "      <td>NaN</td>\n",
       "      <td>NaN</td>\n",
       "      <td>NaN</td>\n",
       "      <td>NaN</td>\n",
       "      <td>0.00</td>\n",
       "      <td>0</td>\n",
       "      <td>0.0</td>\n",
       "      <td>1.78</td>\n",
       "      <td>0.114481</td>\n",
       "      <td>0.098142</td>\n",
       "      <td>40.606701</td>\n",
       "      <td>t</td>\n",
       "      <td>0.0</td>\n",
       "      <td>25.44</td>\n",
       "      <td>25.44</td>\n",
       "      <td>2</td>\n",
       "      <td>678.99</td>\n",
       "      <td>3</td>\n",
       "      <td>lxidpiddsbxsbosboudacockeimpuepw</td>\n",
       "      <td>43.648</td>\n",
       "    </tr>\n",
       "    <tr>\n",
       "      <th>2</th>\n",
       "      <td>d29c2c54acc38ff3c0614d0a653813dd</td>\n",
       "      <td>NaN</td>\n",
       "      <td>NaN</td>\n",
       "      <td>NaN</td>\n",
       "      <td>4660</td>\n",
       "      <td>0</td>\n",
       "      <td>0</td>\n",
       "      <td>2009-08-21</td>\n",
       "      <td>2016-08-30</td>\n",
       "      <td>NaT</td>\n",
       "      <td>2009-08-21</td>\n",
       "      <td>2015-08-31</td>\n",
       "      <td>NaN</td>\n",
       "      <td>NaN</td>\n",
       "      <td>NaN</td>\n",
       "      <td>NaN</td>\n",
       "      <td>189.95</td>\n",
       "      <td>0</td>\n",
       "      <td>0.0</td>\n",
       "      <td>16.27</td>\n",
       "      <td>0.145711</td>\n",
       "      <td>0.000000</td>\n",
       "      <td>44.311378</td>\n",
       "      <td>f</td>\n",
       "      <td>0.0</td>\n",
       "      <td>16.38</td>\n",
       "      <td>16.38</td>\n",
       "      <td>1</td>\n",
       "      <td>18.89</td>\n",
       "      <td>6</td>\n",
       "      <td>kamkkxfxxuwbdslkwifmmcsiusiuosws</td>\n",
       "      <td>13.800</td>\n",
       "    </tr>\n",
       "    <tr>\n",
       "      <th>3</th>\n",
       "      <td>764c75f661154dac3a6c254cd082ea7d</td>\n",
       "      <td>NaN</td>\n",
       "      <td>NaN</td>\n",
       "      <td>foosdfpfkusacimwkcsosbicdxkicaua</td>\n",
       "      <td>544</td>\n",
       "      <td>0</td>\n",
       "      <td>0</td>\n",
       "      <td>2010-04-16</td>\n",
       "      <td>2016-04-16</td>\n",
       "      <td>NaT</td>\n",
       "      <td>2010-04-16</td>\n",
       "      <td>2015-04-17</td>\n",
       "      <td>NaN</td>\n",
       "      <td>NaN</td>\n",
       "      <td>NaN</td>\n",
       "      <td>NaN</td>\n",
       "      <td>47.96</td>\n",
       "      <td>0</td>\n",
       "      <td>0.0</td>\n",
       "      <td>38.72</td>\n",
       "      <td>0.165794</td>\n",
       "      <td>0.087899</td>\n",
       "      <td>44.311378</td>\n",
       "      <td>f</td>\n",
       "      <td>0.0</td>\n",
       "      <td>28.60</td>\n",
       "      <td>28.60</td>\n",
       "      <td>1</td>\n",
       "      <td>6.60</td>\n",
       "      <td>6</td>\n",
       "      <td>kamkkxfxxuwbdslkwifmmcsiusiuosws</td>\n",
       "      <td>13.856</td>\n",
       "    </tr>\n",
       "    <tr>\n",
       "      <th>4</th>\n",
       "      <td>bba03439a292a1e166f80264c16191cb</td>\n",
       "      <td>NaN</td>\n",
       "      <td>NaN</td>\n",
       "      <td>lmkebamcaaclubfxadlmueccxoimlema</td>\n",
       "      <td>1584</td>\n",
       "      <td>0</td>\n",
       "      <td>0</td>\n",
       "      <td>2010-03-30</td>\n",
       "      <td>2016-03-30</td>\n",
       "      <td>NaT</td>\n",
       "      <td>2010-03-30</td>\n",
       "      <td>2015-03-31</td>\n",
       "      <td>NaN</td>\n",
       "      <td>NaN</td>\n",
       "      <td>NaN</td>\n",
       "      <td>NaN</td>\n",
       "      <td>240.04</td>\n",
       "      <td>0</td>\n",
       "      <td>0.0</td>\n",
       "      <td>19.83</td>\n",
       "      <td>0.146694</td>\n",
       "      <td>0.000000</td>\n",
       "      <td>44.311378</td>\n",
       "      <td>f</td>\n",
       "      <td>0.0</td>\n",
       "      <td>30.22</td>\n",
       "      <td>30.22</td>\n",
       "      <td>1</td>\n",
       "      <td>25.46</td>\n",
       "      <td>6</td>\n",
       "      <td>kamkkxfxxuwbdslkwifmmcsiusiuosws</td>\n",
       "      <td>13.200</td>\n",
       "    </tr>\n",
       "  </tbody>\n",
       "</table>\n",
       "</div>"
      ],
      "text/plain": [
       "                                 id                      activity_new  \\\n",
       "0  48ada52261e7cf58715202705a0451c9  esoiiifxdlbkcsluxmfuacbdckommixw   \n",
       "1  24011ae4ebbe3035111d65fa7c15bc57                               NaN   \n",
       "2  d29c2c54acc38ff3c0614d0a653813dd                               NaN   \n",
       "3  764c75f661154dac3a6c254cd082ea7d                               NaN   \n",
       "4  bba03439a292a1e166f80264c16191cb                               NaN   \n",
       "\n",
       "   campaign_disc_ele                     channel_sales  cons_12m  \\\n",
       "0                NaN  lmkebamcaaclubfxadlmueccxoimlema    309275   \n",
       "1                NaN  foosdfpfkusacimwkcsosbicdxkicaua         0   \n",
       "2                NaN                               NaN      4660   \n",
       "3                NaN  foosdfpfkusacimwkcsosbicdxkicaua       544   \n",
       "4                NaN  lmkebamcaaclubfxadlmueccxoimlema      1584   \n",
       "\n",
       "   cons_gas_12m  cons_last_month date_activ   date_end date_first_activ  \\\n",
       "0             0            10025 2012-07-11 2016-06-11              NaT   \n",
       "1         54946                0 2013-06-15 2016-06-15              NaT   \n",
       "2             0                0 2009-08-21 2016-08-30              NaT   \n",
       "3             0                0 2010-04-16 2016-04-16              NaT   \n",
       "4             0                0 2010-03-30 2016-03-30              NaT   \n",
       "\n",
       "  date_modif_prod date_renewal  forecast_base_bill_ele  \\\n",
       "0      2012-07-11   2015-09-11                     NaN   \n",
       "1             NaT   2015-06-23                     NaN   \n",
       "2      2009-08-21   2015-08-31                     NaN   \n",
       "3      2010-04-16   2015-04-17                     NaN   \n",
       "4      2010-03-30   2015-03-31                     NaN   \n",
       "\n",
       "   forecast_base_bill_year  forecast_bill_12m  forecast_cons  \\\n",
       "0                      NaN                NaN            NaN   \n",
       "1                      NaN                NaN            NaN   \n",
       "2                      NaN                NaN            NaN   \n",
       "3                      NaN                NaN            NaN   \n",
       "4                      NaN                NaN            NaN   \n",
       "\n",
       "   forecast_cons_12m  forecast_cons_year  forecast_discount_energy  \\\n",
       "0           26520.30               10025                       0.0   \n",
       "1               0.00                   0                       0.0   \n",
       "2             189.95                   0                       0.0   \n",
       "3              47.96                   0                       0.0   \n",
       "4             240.04                   0                       0.0   \n",
       "\n",
       "   forecast_meter_rent_12m  forecast_price_energy_p1  \\\n",
       "0                   359.29                  0.095919   \n",
       "1                     1.78                  0.114481   \n",
       "2                    16.27                  0.145711   \n",
       "3                    38.72                  0.165794   \n",
       "4                    19.83                  0.146694   \n",
       "\n",
       "   forecast_price_energy_p2  forecast_price_pow_p1 has_gas  imp_cons  \\\n",
       "0                  0.088347              58.995952       f     831.8   \n",
       "1                  0.098142              40.606701       t       0.0   \n",
       "2                  0.000000              44.311378       f       0.0   \n",
       "3                  0.087899              44.311378       f       0.0   \n",
       "4                  0.000000              44.311378       f       0.0   \n",
       "\n",
       "   margin_gross_pow_ele  margin_net_pow_ele  nb_prod_act  net_margin  \\\n",
       "0                -41.76              -41.76            1     1732.36   \n",
       "1                 25.44               25.44            2      678.99   \n",
       "2                 16.38               16.38            1       18.89   \n",
       "3                 28.60               28.60            1        6.60   \n",
       "4                 30.22               30.22            1       25.46   \n",
       "\n",
       "   num_years_antig                         origin_up  pow_max  \n",
       "0                3  ldkssxwpmemidmecebumciepifcamkci  180.000  \n",
       "1                3  lxidpiddsbxsbosboudacockeimpuepw   43.648  \n",
       "2                6  kamkkxfxxuwbdslkwifmmcsiusiuosws   13.800  \n",
       "3                6  kamkkxfxxuwbdslkwifmmcsiusiuosws   13.856  \n",
       "4                6  kamkkxfxxuwbdslkwifmmcsiusiuosws   13.200  "
      ]
     },
     "execution_count": 18,
     "metadata": {},
     "output_type": "execute_result"
    }
   ],
   "source": [
    "# Print header\n",
    "pco_main.head()"
   ]
  },
  {
   "cell_type": "code",
   "execution_count": 19,
   "metadata": {
    "colab": {
     "base_uri": "https://localhost:8080/"
    },
    "id": "-OuZ-3n1dqLH",
    "outputId": "2cbfdab2-8afb-4f3e-8304-d75ec4cfbf9a"
   },
   "outputs": [
    {
     "name": "stdout",
     "output_type": "stream",
     "text": [
      "<class 'pandas.core.frame.DataFrame'>\n",
      "RangeIndex: 16096 entries, 0 to 16095\n",
      "Data columns (total 32 columns):\n",
      " #   Column                    Non-Null Count  Dtype         \n",
      "---  ------                    --------------  -----         \n",
      " 0   id                        16096 non-null  object        \n",
      " 1   activity_new              6551 non-null   object        \n",
      " 2   campaign_disc_ele         0 non-null      float64       \n",
      " 3   channel_sales             11878 non-null  object        \n",
      " 4   cons_12m                  16096 non-null  int64         \n",
      " 5   cons_gas_12m              16096 non-null  int64         \n",
      " 6   cons_last_month           16096 non-null  int64         \n",
      " 7   date_activ                16096 non-null  datetime64[ns]\n",
      " 8   date_end                  16094 non-null  datetime64[ns]\n",
      " 9   date_first_activ          3508 non-null   datetime64[ns]\n",
      " 10  date_modif_prod           15939 non-null  datetime64[ns]\n",
      " 11  date_renewal              16056 non-null  datetime64[ns]\n",
      " 12  forecast_base_bill_ele    3508 non-null   float64       \n",
      " 13  forecast_base_bill_year   3508 non-null   float64       \n",
      " 14  forecast_bill_12m         3508 non-null   float64       \n",
      " 15  forecast_cons             3508 non-null   float64       \n",
      " 16  forecast_cons_12m         16096 non-null  float64       \n",
      " 17  forecast_cons_year        16096 non-null  int64         \n",
      " 18  forecast_discount_energy  15970 non-null  float64       \n",
      " 19  forecast_meter_rent_12m   16096 non-null  float64       \n",
      " 20  forecast_price_energy_p1  15970 non-null  float64       \n",
      " 21  forecast_price_energy_p2  15970 non-null  float64       \n",
      " 22  forecast_price_pow_p1     15970 non-null  float64       \n",
      " 23  has_gas                   16096 non-null  object        \n",
      " 24  imp_cons                  16096 non-null  float64       \n",
      " 25  margin_gross_pow_ele      16083 non-null  float64       \n",
      " 26  margin_net_pow_ele        16083 non-null  float64       \n",
      " 27  nb_prod_act               16096 non-null  int64         \n",
      " 28  net_margin                16081 non-null  float64       \n",
      " 29  num_years_antig           16096 non-null  int64         \n",
      " 30  origin_up                 16009 non-null  object        \n",
      " 31  pow_max                   16093 non-null  float64       \n",
      "dtypes: datetime64[ns](5), float64(16), int64(6), object(5)\n",
      "memory usage: 3.9+ MB\n"
     ]
    }
   ],
   "source": [
    "# print info\n",
    "pco_main.info()"
   ]
  },
  {
   "cell_type": "code",
   "execution_count": 20,
   "metadata": {
    "colab": {
     "base_uri": "https://localhost:8080/"
    },
    "id": "tScZikuWyK-s",
    "outputId": "d68e8c44-d5a0-464e-b0ee-c363c106bcc5"
   },
   "outputs": [
    {
     "name": "stdout",
     "output_type": "stream",
     "text": [
      "Percentage of Missing Values:\n",
      " id                            0.000000\n",
      "activity_new                 59.300447\n",
      "campaign_disc_ele           100.000000\n",
      "channel_sales                26.205268\n",
      "cons_12m                      0.000000\n",
      "cons_gas_12m                  0.000000\n",
      "cons_last_month               0.000000\n",
      "date_activ                    0.000000\n",
      "date_end                      0.012425\n",
      "date_first_activ             78.205765\n",
      "date_modif_prod               0.975398\n",
      "date_renewal                  0.248509\n",
      "forecast_base_bill_ele       78.205765\n",
      "forecast_base_bill_year      78.205765\n",
      "forecast_bill_12m            78.205765\n",
      "forecast_cons                78.205765\n",
      "forecast_cons_12m             0.000000\n",
      "forecast_cons_year            0.000000\n",
      "forecast_discount_energy      0.782803\n",
      "forecast_meter_rent_12m       0.000000\n",
      "forecast_price_energy_p1      0.782803\n",
      "forecast_price_energy_p2      0.782803\n",
      "forecast_price_pow_p1         0.782803\n",
      "has_gas                       0.000000\n",
      "imp_cons                      0.000000\n",
      "margin_gross_pow_ele          0.080765\n",
      "margin_net_pow_ele            0.080765\n",
      "nb_prod_act                   0.000000\n",
      "net_margin                    0.093191\n",
      "num_years_antig               0.000000\n",
      "origin_up                     0.540507\n",
      "pow_max                       0.018638\n",
      "dtype: float64\n"
     ]
    }
   ],
   "source": [
    "# Identify the percentage of nullity in the dataframe for each collumn\n",
    "missing_values_main_perc = pco_main.isnull().mean() * 100\n",
    "print('Percentage of Missing Values:\\n', missing_values_main_perc)"
   ]
  },
  {
   "cell_type": "code",
   "execution_count": 21,
   "metadata": {
    "colab": {
     "base_uri": "https://localhost:8080/",
     "height": 317
    },
    "id": "Plbxth-QHYf8",
    "outputId": "94ccfcbf-4fd4-4a99-aedf-4dd6a300f01f"
   },
   "outputs": [
    {
     "data": {
      "text/html": [
       "<div>\n",
       "<style scoped>\n",
       "    .dataframe tbody tr th:only-of-type {\n",
       "        vertical-align: middle;\n",
       "    }\n",
       "\n",
       "    .dataframe tbody tr th {\n",
       "        vertical-align: top;\n",
       "    }\n",
       "\n",
       "    .dataframe thead th {\n",
       "        text-align: right;\n",
       "    }\n",
       "</style>\n",
       "<table border=\"1\" class=\"dataframe\">\n",
       "  <thead>\n",
       "    <tr style=\"text-align: right;\">\n",
       "      <th></th>\n",
       "      <th>campaign_disc_ele</th>\n",
       "      <th>cons_12m</th>\n",
       "      <th>cons_gas_12m</th>\n",
       "      <th>cons_last_month</th>\n",
       "      <th>forecast_base_bill_ele</th>\n",
       "      <th>forecast_base_bill_year</th>\n",
       "      <th>forecast_bill_12m</th>\n",
       "      <th>forecast_cons</th>\n",
       "      <th>forecast_cons_12m</th>\n",
       "      <th>forecast_cons_year</th>\n",
       "      <th>forecast_discount_energy</th>\n",
       "      <th>forecast_meter_rent_12m</th>\n",
       "      <th>forecast_price_energy_p1</th>\n",
       "      <th>forecast_price_energy_p2</th>\n",
       "      <th>forecast_price_pow_p1</th>\n",
       "      <th>imp_cons</th>\n",
       "      <th>margin_gross_pow_ele</th>\n",
       "      <th>margin_net_pow_ele</th>\n",
       "      <th>nb_prod_act</th>\n",
       "      <th>net_margin</th>\n",
       "      <th>num_years_antig</th>\n",
       "      <th>pow_max</th>\n",
       "    </tr>\n",
       "  </thead>\n",
       "  <tbody>\n",
       "    <tr>\n",
       "      <th>count</th>\n",
       "      <td>0.0</td>\n",
       "      <td>1.609600e+04</td>\n",
       "      <td>1.609600e+04</td>\n",
       "      <td>1.609600e+04</td>\n",
       "      <td>3508.000000</td>\n",
       "      <td>3508.000000</td>\n",
       "      <td>3508.000000</td>\n",
       "      <td>3508.000000</td>\n",
       "      <td>16096.000000</td>\n",
       "      <td>16096.000000</td>\n",
       "      <td>15970.000000</td>\n",
       "      <td>16096.000000</td>\n",
       "      <td>15970.000000</td>\n",
       "      <td>15970.000000</td>\n",
       "      <td>15970.000000</td>\n",
       "      <td>16096.000000</td>\n",
       "      <td>16083.000000</td>\n",
       "      <td>16083.000000</td>\n",
       "      <td>16096.000000</td>\n",
       "      <td>16081.000000</td>\n",
       "      <td>16096.000000</td>\n",
       "      <td>16093.000000</td>\n",
       "    </tr>\n",
       "    <tr>\n",
       "      <th>mean</th>\n",
       "      <td>NaN</td>\n",
       "      <td>1.948044e+05</td>\n",
       "      <td>3.191164e+04</td>\n",
       "      <td>1.946154e+04</td>\n",
       "      <td>335.843857</td>\n",
       "      <td>335.843857</td>\n",
       "      <td>3837.441866</td>\n",
       "      <td>206.845165</td>\n",
       "      <td>2370.555949</td>\n",
       "      <td>1907.347229</td>\n",
       "      <td>0.991547</td>\n",
       "      <td>70.309945</td>\n",
       "      <td>0.135901</td>\n",
       "      <td>0.052951</td>\n",
       "      <td>43.533496</td>\n",
       "      <td>196.123447</td>\n",
       "      <td>22.462276</td>\n",
       "      <td>21.460318</td>\n",
       "      <td>1.347788</td>\n",
       "      <td>217.987028</td>\n",
       "      <td>5.030629</td>\n",
       "      <td>20.604131</td>\n",
       "    </tr>\n",
       "    <tr>\n",
       "      <th>std</th>\n",
       "      <td>NaN</td>\n",
       "      <td>6.795151e+05</td>\n",
       "      <td>1.775885e+05</td>\n",
       "      <td>8.235676e+04</td>\n",
       "      <td>649.406000</td>\n",
       "      <td>649.406000</td>\n",
       "      <td>5425.744327</td>\n",
       "      <td>455.634288</td>\n",
       "      <td>4035.085664</td>\n",
       "      <td>5257.364759</td>\n",
       "      <td>5.160969</td>\n",
       "      <td>79.023251</td>\n",
       "      <td>0.026252</td>\n",
       "      <td>0.048617</td>\n",
       "      <td>5.212252</td>\n",
       "      <td>494.366979</td>\n",
       "      <td>23.700883</td>\n",
       "      <td>27.917349</td>\n",
       "      <td>1.459808</td>\n",
       "      <td>366.742030</td>\n",
       "      <td>1.676101</td>\n",
       "      <td>21.772421</td>\n",
       "    </tr>\n",
       "    <tr>\n",
       "      <th>min</th>\n",
       "      <td>NaN</td>\n",
       "      <td>-1.252760e+05</td>\n",
       "      <td>-3.037000e+03</td>\n",
       "      <td>-9.138600e+04</td>\n",
       "      <td>-364.940000</td>\n",
       "      <td>-364.940000</td>\n",
       "      <td>-2503.480000</td>\n",
       "      <td>0.000000</td>\n",
       "      <td>-16689.260000</td>\n",
       "      <td>-85627.000000</td>\n",
       "      <td>0.000000</td>\n",
       "      <td>-242.960000</td>\n",
       "      <td>0.000000</td>\n",
       "      <td>0.000000</td>\n",
       "      <td>-0.122184</td>\n",
       "      <td>-9038.210000</td>\n",
       "      <td>-525.540000</td>\n",
       "      <td>-615.660000</td>\n",
       "      <td>1.000000</td>\n",
       "      <td>-4148.990000</td>\n",
       "      <td>1.000000</td>\n",
       "      <td>1.000000</td>\n",
       "    </tr>\n",
       "    <tr>\n",
       "      <th>25%</th>\n",
       "      <td>NaN</td>\n",
       "      <td>5.906250e+03</td>\n",
       "      <td>0.000000e+00</td>\n",
       "      <td>0.000000e+00</td>\n",
       "      <td>0.000000</td>\n",
       "      <td>0.000000</td>\n",
       "      <td>1158.175000</td>\n",
       "      <td>0.000000</td>\n",
       "      <td>513.230000</td>\n",
       "      <td>0.000000</td>\n",
       "      <td>0.000000</td>\n",
       "      <td>16.230000</td>\n",
       "      <td>0.115237</td>\n",
       "      <td>0.000000</td>\n",
       "      <td>40.606701</td>\n",
       "      <td>0.000000</td>\n",
       "      <td>11.960000</td>\n",
       "      <td>11.950000</td>\n",
       "      <td>1.000000</td>\n",
       "      <td>51.970000</td>\n",
       "      <td>4.000000</td>\n",
       "      <td>12.500000</td>\n",
       "    </tr>\n",
       "    <tr>\n",
       "      <th>50%</th>\n",
       "      <td>NaN</td>\n",
       "      <td>1.533250e+04</td>\n",
       "      <td>0.000000e+00</td>\n",
       "      <td>9.010000e+02</td>\n",
       "      <td>162.955000</td>\n",
       "      <td>162.955000</td>\n",
       "      <td>2187.230000</td>\n",
       "      <td>42.215000</td>\n",
       "      <td>1179.160000</td>\n",
       "      <td>378.000000</td>\n",
       "      <td>0.000000</td>\n",
       "      <td>19.440000</td>\n",
       "      <td>0.142881</td>\n",
       "      <td>0.086163</td>\n",
       "      <td>44.311378</td>\n",
       "      <td>44.465000</td>\n",
       "      <td>21.090000</td>\n",
       "      <td>20.970000</td>\n",
       "      <td>1.000000</td>\n",
       "      <td>119.680000</td>\n",
       "      <td>5.000000</td>\n",
       "      <td>13.856000</td>\n",
       "    </tr>\n",
       "    <tr>\n",
       "      <th>75%</th>\n",
       "      <td>NaN</td>\n",
       "      <td>5.022150e+04</td>\n",
       "      <td>0.000000e+00</td>\n",
       "      <td>4.127000e+03</td>\n",
       "      <td>396.185000</td>\n",
       "      <td>396.185000</td>\n",
       "      <td>4246.555000</td>\n",
       "      <td>228.117500</td>\n",
       "      <td>2692.077500</td>\n",
       "      <td>1994.250000</td>\n",
       "      <td>0.000000</td>\n",
       "      <td>131.470000</td>\n",
       "      <td>0.146348</td>\n",
       "      <td>0.098837</td>\n",
       "      <td>44.311378</td>\n",
       "      <td>218.090000</td>\n",
       "      <td>29.640000</td>\n",
       "      <td>29.640000</td>\n",
       "      <td>1.000000</td>\n",
       "      <td>275.810000</td>\n",
       "      <td>6.000000</td>\n",
       "      <td>19.800000</td>\n",
       "    </tr>\n",
       "    <tr>\n",
       "      <th>max</th>\n",
       "      <td>NaN</td>\n",
       "      <td>1.609711e+07</td>\n",
       "      <td>4.188440e+06</td>\n",
       "      <td>4.538720e+06</td>\n",
       "      <td>12566.080000</td>\n",
       "      <td>12566.080000</td>\n",
       "      <td>81122.630000</td>\n",
       "      <td>9682.890000</td>\n",
       "      <td>103801.930000</td>\n",
       "      <td>175375.000000</td>\n",
       "      <td>50.000000</td>\n",
       "      <td>2411.690000</td>\n",
       "      <td>0.273963</td>\n",
       "      <td>0.195975</td>\n",
       "      <td>59.444710</td>\n",
       "      <td>15042.790000</td>\n",
       "      <td>374.640000</td>\n",
       "      <td>374.640000</td>\n",
       "      <td>32.000000</td>\n",
       "      <td>24570.650000</td>\n",
       "      <td>16.000000</td>\n",
       "      <td>500.000000</td>\n",
       "    </tr>\n",
       "  </tbody>\n",
       "</table>\n",
       "</div>"
      ],
      "text/plain": [
       "       campaign_disc_ele      cons_12m  cons_gas_12m  cons_last_month  \\\n",
       "count                0.0  1.609600e+04  1.609600e+04     1.609600e+04   \n",
       "mean                 NaN  1.948044e+05  3.191164e+04     1.946154e+04   \n",
       "std                  NaN  6.795151e+05  1.775885e+05     8.235676e+04   \n",
       "min                  NaN -1.252760e+05 -3.037000e+03    -9.138600e+04   \n",
       "25%                  NaN  5.906250e+03  0.000000e+00     0.000000e+00   \n",
       "50%                  NaN  1.533250e+04  0.000000e+00     9.010000e+02   \n",
       "75%                  NaN  5.022150e+04  0.000000e+00     4.127000e+03   \n",
       "max                  NaN  1.609711e+07  4.188440e+06     4.538720e+06   \n",
       "\n",
       "       forecast_base_bill_ele  forecast_base_bill_year  forecast_bill_12m  \\\n",
       "count             3508.000000              3508.000000        3508.000000   \n",
       "mean               335.843857               335.843857        3837.441866   \n",
       "std                649.406000               649.406000        5425.744327   \n",
       "min               -364.940000              -364.940000       -2503.480000   \n",
       "25%                  0.000000                 0.000000        1158.175000   \n",
       "50%                162.955000               162.955000        2187.230000   \n",
       "75%                396.185000               396.185000        4246.555000   \n",
       "max              12566.080000             12566.080000       81122.630000   \n",
       "\n",
       "       forecast_cons  forecast_cons_12m  forecast_cons_year  \\\n",
       "count    3508.000000       16096.000000        16096.000000   \n",
       "mean      206.845165        2370.555949         1907.347229   \n",
       "std       455.634288        4035.085664         5257.364759   \n",
       "min         0.000000      -16689.260000       -85627.000000   \n",
       "25%         0.000000         513.230000            0.000000   \n",
       "50%        42.215000        1179.160000          378.000000   \n",
       "75%       228.117500        2692.077500         1994.250000   \n",
       "max      9682.890000      103801.930000       175375.000000   \n",
       "\n",
       "       forecast_discount_energy  forecast_meter_rent_12m  \\\n",
       "count              15970.000000             16096.000000   \n",
       "mean                   0.991547                70.309945   \n",
       "std                    5.160969                79.023251   \n",
       "min                    0.000000              -242.960000   \n",
       "25%                    0.000000                16.230000   \n",
       "50%                    0.000000                19.440000   \n",
       "75%                    0.000000               131.470000   \n",
       "max                   50.000000              2411.690000   \n",
       "\n",
       "       forecast_price_energy_p1  forecast_price_energy_p2  \\\n",
       "count              15970.000000              15970.000000   \n",
       "mean                   0.135901                  0.052951   \n",
       "std                    0.026252                  0.048617   \n",
       "min                    0.000000                  0.000000   \n",
       "25%                    0.115237                  0.000000   \n",
       "50%                    0.142881                  0.086163   \n",
       "75%                    0.146348                  0.098837   \n",
       "max                    0.273963                  0.195975   \n",
       "\n",
       "       forecast_price_pow_p1      imp_cons  margin_gross_pow_ele  \\\n",
       "count           15970.000000  16096.000000          16083.000000   \n",
       "mean               43.533496    196.123447             22.462276   \n",
       "std                 5.212252    494.366979             23.700883   \n",
       "min                -0.122184  -9038.210000           -525.540000   \n",
       "25%                40.606701      0.000000             11.960000   \n",
       "50%                44.311378     44.465000             21.090000   \n",
       "75%                44.311378    218.090000             29.640000   \n",
       "max                59.444710  15042.790000            374.640000   \n",
       "\n",
       "       margin_net_pow_ele   nb_prod_act    net_margin  num_years_antig  \\\n",
       "count        16083.000000  16096.000000  16081.000000     16096.000000   \n",
       "mean            21.460318      1.347788    217.987028         5.030629   \n",
       "std             27.917349      1.459808    366.742030         1.676101   \n",
       "min           -615.660000      1.000000  -4148.990000         1.000000   \n",
       "25%             11.950000      1.000000     51.970000         4.000000   \n",
       "50%             20.970000      1.000000    119.680000         5.000000   \n",
       "75%             29.640000      1.000000    275.810000         6.000000   \n",
       "max            374.640000     32.000000  24570.650000        16.000000   \n",
       "\n",
       "            pow_max  \n",
       "count  16093.000000  \n",
       "mean      20.604131  \n",
       "std       21.772421  \n",
       "min        1.000000  \n",
       "25%       12.500000  \n",
       "50%       13.856000  \n",
       "75%       19.800000  \n",
       "max      500.000000  "
      ]
     },
     "execution_count": 21,
     "metadata": {},
     "output_type": "execute_result"
    }
   ],
   "source": [
    "# Examine the descriptive statistics of the main dataset\n",
    "pco_main.describe()"
   ]
  },
  {
   "cell_type": "markdown",
   "metadata": {
    "id": "Lap-odSTOQe8"
   },
   "source": [
    "---\n",
    "# **Facts**\n",
    "* The average tenure of a client is 5 years\n",
    "* The average net marging is $217"
   ]
  },
  {
   "cell_type": "markdown",
   "metadata": {
    "id": "T1K3i9oFOoGc"
   },
   "source": [
    "---\n",
    "# **Observations**\n",
    "* The 14 columns contain negative minimum values\n",
    "\n",
    "* The `activity_new` column is missing 59.3% of its data\n",
    "* The `campaign_disc_ele` column is missing completely\n",
    "* The `channel_sales` column is missing 26.2% of its data\n",
    "* The `date_end` column is missing 0.01% of its data\n",
    "* The `date_first_activ_` column is missing 78.2% of its data\n",
    "* The `date_modif_prod` column is missing 0.9% of its data\n",
    "* The `date_renewal` column is missing 0.24% of it data\n",
    "* The `marging_gross_pow_ele` and `margin_net_pow_ele` columns are both missing 0.08% of its data\n",
    "* The `net_margin` column is missing 0.09% of its data\n",
    "* The `origin_up` column is missing 0.54% of its data\n",
    "* The `pow_max` column is missing 0.018% of its data\n",
    "* The `forecast_base_bill_ele`, `forecast_base_bill_year`, `forecast_bill_12m`, and `forecast_cons` columns are each missing 78.2% of its data"
   ]
  },
  {
   "cell_type": "markdown",
   "metadata": {
    "id": "ssUbIgUTMv2p"
   },
   "source": [
    "# **Data Cleaning and Imputation**"
   ]
  },
  {
   "cell_type": "markdown",
   "metadata": {
    "id": "7JLa-5DVK-G3"
   },
   "source": [
    "## **Dealing with missing data**\n",
    "\n",
    "**Workflow for treating missing values**\n",
    "\n",
    "1. Convert all missing values to null values\n",
    "2. Analyze the amount and type of missingness in the data\n",
    "3. Appropriately delete or impute missing values\n",
    "4. Evaluate & compare the performance of the treated/imputed dataset"
   ]
  },
  {
   "cell_type": "markdown",
   "metadata": {
    "id": "VCRRWlaQwPhV"
   },
   "source": [
    "The `missingno` (imported as `msno`) package is great for visualizing missing data - we will be using:\n",
    "\n",
    "- `msno.matrix()` visualizes a missingness matrix\n",
    "- `msno.bar()` visualizes a missngness barplot\n",
    "- `plt.show()` to show the plot"
   ]
  },
  {
   "cell_type": "markdown",
   "metadata": {
    "id": "bS4QH_SOWS1K"
   },
   "source": [
    "# **Is the data missing at random?**\n",
    "\n",
    "**Types of missingness**\n",
    "\n",
    "1. Missing Completely at Random (MCAR)\n",
    "> *Missingness has no relationship between any values, observed or missing*\n",
    "2. Missing at Random (MAR)\n",
    "> *There is a systematic relationship between missingness and other observed data, but not the missing data*\n",
    "3. Missing Not at Random (MNAR)\n",
    "> *There is a relationship between missingness and its values, missing or non-missing*"
   ]
  },
  {
   "cell_type": "markdown",
   "metadata": {
    "id": "pl9JsY7HonyS"
   },
   "source": [
    "# **When and how to delete missing data?**\n",
    "\n",
    "**Types of deletions**\n",
    "1. Pairwise deletion\n",
    ">Pandas skips `NaN` whic is equivalent to pairwise deletion. Pairwise deletions minimize the amount of data loss and are hence preferred. However, it is also true that at several instances they might negatively affect our analysis. \n",
    "2. Listwise deletion\n",
    "> In listwise deletion the incomplete row is deleted, also called complete case analysis. The major disadvantage of listwise deletions is amount of data lost. \n",
    ">Example: `df.dropna(subset=['column'], how='any',inplace=True)`\n",
    "\n",
    "\n",
    "Note: *Both of these deletions are used only when the values are missing completely at random that is MCAR*"
   ]
  },
  {
   "cell_type": "markdown",
   "metadata": {
    "id": "6tfpVcW8YGsM"
   },
   "source": [
    "# **The History Dataset**"
   ]
  },
  {
   "cell_type": "code",
   "execution_count": 22,
   "metadata": {
    "colab": {
     "base_uri": "https://localhost:8080/",
     "height": 297
    },
    "id": "be6ApYoiv6q9",
    "outputId": "c42628a8-e91f-4e2e-d0e9-99ccfc37447d"
   },
   "outputs": [
    {
     "data": {
      "text/html": [
       "<div>\n",
       "<style scoped>\n",
       "    .dataframe tbody tr th:only-of-type {\n",
       "        vertical-align: middle;\n",
       "    }\n",
       "\n",
       "    .dataframe tbody tr th {\n",
       "        vertical-align: top;\n",
       "    }\n",
       "\n",
       "    .dataframe thead th {\n",
       "        text-align: right;\n",
       "    }\n",
       "</style>\n",
       "<table border=\"1\" class=\"dataframe\">\n",
       "  <thead>\n",
       "    <tr style=\"text-align: right;\">\n",
       "      <th></th>\n",
       "      <th>price_p1_var</th>\n",
       "      <th>price_p2_var</th>\n",
       "      <th>price_p3_var</th>\n",
       "      <th>price_p1_fix</th>\n",
       "      <th>price_p2_fix</th>\n",
       "      <th>price_p3_fix</th>\n",
       "    </tr>\n",
       "  </thead>\n",
       "  <tbody>\n",
       "    <tr>\n",
       "      <th>count</th>\n",
       "      <td>191643.000000</td>\n",
       "      <td>191643.000000</td>\n",
       "      <td>191643.000000</td>\n",
       "      <td>191643.000000</td>\n",
       "      <td>191643.000000</td>\n",
       "      <td>191643.000000</td>\n",
       "    </tr>\n",
       "    <tr>\n",
       "      <th>mean</th>\n",
       "      <td>0.140991</td>\n",
       "      <td>0.054412</td>\n",
       "      <td>0.030712</td>\n",
       "      <td>43.325563</td>\n",
       "      <td>10.698210</td>\n",
       "      <td>6.455443</td>\n",
       "    </tr>\n",
       "    <tr>\n",
       "      <th>std</th>\n",
       "      <td>0.025117</td>\n",
       "      <td>0.050033</td>\n",
       "      <td>0.036335</td>\n",
       "      <td>5.437816</td>\n",
       "      <td>12.856039</td>\n",
       "      <td>7.782273</td>\n",
       "    </tr>\n",
       "    <tr>\n",
       "      <th>min</th>\n",
       "      <td>0.000000</td>\n",
       "      <td>0.000000</td>\n",
       "      <td>0.000000</td>\n",
       "      <td>0.000000</td>\n",
       "      <td>0.000000</td>\n",
       "      <td>0.000000</td>\n",
       "    </tr>\n",
       "    <tr>\n",
       "      <th>25%</th>\n",
       "      <td>0.125976</td>\n",
       "      <td>0.000000</td>\n",
       "      <td>0.000000</td>\n",
       "      <td>40.728885</td>\n",
       "      <td>0.000000</td>\n",
       "      <td>0.000000</td>\n",
       "    </tr>\n",
       "    <tr>\n",
       "      <th>50%</th>\n",
       "      <td>0.146033</td>\n",
       "      <td>0.085483</td>\n",
       "      <td>0.000000</td>\n",
       "      <td>44.266930</td>\n",
       "      <td>0.000000</td>\n",
       "      <td>0.000000</td>\n",
       "    </tr>\n",
       "    <tr>\n",
       "      <th>75%</th>\n",
       "      <td>0.151635</td>\n",
       "      <td>0.101780</td>\n",
       "      <td>0.072558</td>\n",
       "      <td>44.444710</td>\n",
       "      <td>24.339581</td>\n",
       "      <td>16.226389</td>\n",
       "    </tr>\n",
       "    <tr>\n",
       "      <th>max</th>\n",
       "      <td>0.280700</td>\n",
       "      <td>0.229788</td>\n",
       "      <td>0.114102</td>\n",
       "      <td>59.444710</td>\n",
       "      <td>36.490692</td>\n",
       "      <td>17.458221</td>\n",
       "    </tr>\n",
       "  </tbody>\n",
       "</table>\n",
       "</div>"
      ],
      "text/plain": [
       "        price_p1_var   price_p2_var   price_p3_var   price_p1_fix  \\\n",
       "count  191643.000000  191643.000000  191643.000000  191643.000000   \n",
       "mean        0.140991       0.054412       0.030712      43.325563   \n",
       "std         0.025117       0.050033       0.036335       5.437816   \n",
       "min         0.000000       0.000000       0.000000       0.000000   \n",
       "25%         0.125976       0.000000       0.000000      40.728885   \n",
       "50%         0.146033       0.085483       0.000000      44.266930   \n",
       "75%         0.151635       0.101780       0.072558      44.444710   \n",
       "max         0.280700       0.229788       0.114102      59.444710   \n",
       "\n",
       "        price_p2_fix   price_p3_fix  \n",
       "count  191643.000000  191643.000000  \n",
       "mean       10.698210       6.455443  \n",
       "std        12.856039       7.782273  \n",
       "min         0.000000       0.000000  \n",
       "25%         0.000000       0.000000  \n",
       "50%         0.000000       0.000000  \n",
       "75%        24.339581      16.226389  \n",
       "max        36.490692      17.458221  "
      ]
     },
     "execution_count": 22,
     "metadata": {},
     "output_type": "execute_result"
    }
   ],
   "source": [
    "# Identify negative columns\n",
    "negative_cols = ['price_p1_fix','price_p2_fix','price_p3_fix']\n",
    "\n",
    "# Convert to positive the negative columns in pco_hist\n",
    "pco_hist[negative_cols] = pco_hist[negative_cols].apply(abs)\n",
    "\n",
    "pco_hist.describe()"
   ]
  },
  {
   "cell_type": "markdown",
   "metadata": {
    "id": "MmIPwN_vWYHn"
   },
   "source": [
    "### **Visualizing the amount of missingness**\n",
    "\n",
    "\n",
    "\n",
    "\n",
    "\n"
   ]
  },
  {
   "cell_type": "code",
   "execution_count": 23,
   "metadata": {
    "colab": {
     "base_uri": "https://localhost:8080/",
     "height": 743
    },
    "id": "hHCcBwu1WQmf",
    "outputId": "b49a7280-63a3-4949-fab2-e9d7182e7c3a"
   },
   "outputs": [
    {
     "ename": "NameError",
     "evalue": "name 'msno' is not defined",
     "output_type": "error",
     "traceback": [
      "\u001b[1;31m---------------------------------------------------------------------------\u001b[0m",
      "\u001b[1;31mNameError\u001b[0m                                 Traceback (most recent call last)",
      "\u001b[1;32m<ipython-input-23-575a2ea039aa>\u001b[0m in \u001b[0;36m<module>\u001b[1;34m\u001b[0m\n\u001b[0;32m      1\u001b[0m \u001b[1;31m# Visualize the completeness of the dataframe\u001b[0m\u001b[1;33m\u001b[0m\u001b[1;33m\u001b[0m\u001b[1;33m\u001b[0m\u001b[0m\n\u001b[1;32m----> 2\u001b[1;33m \u001b[0mmsno\u001b[0m\u001b[1;33m.\u001b[0m\u001b[0mbar\u001b[0m\u001b[1;33m(\u001b[0m\u001b[0mpco_hist\u001b[0m\u001b[1;33m)\u001b[0m\u001b[1;33m\u001b[0m\u001b[1;33m\u001b[0m\u001b[0m\n\u001b[0m",
      "\u001b[1;31mNameError\u001b[0m: name 'msno' is not defined"
     ]
    }
   ],
   "source": [
    "# Visualize the completeness of the dataframe\n",
    "msno.bar(pco_hist)"
   ]
  },
  {
   "cell_type": "markdown",
   "metadata": {
    "id": "x379AS419XQr"
   },
   "source": [
    "To the untrained eye, it might seem that there's no data missing. However, we estimated that 0.7% of the data in the price columns are missing. We can notice that the value counts at the top of each columns display a different amount."
   ]
  },
  {
   "cell_type": "code",
   "execution_count": null,
   "metadata": {
    "colab": {
     "base_uri": "https://localhost:8080/",
     "height": 692
    },
    "id": "yj7MjdvRXDaf",
    "outputId": "9e7ef9fb-58e6-4442-e26a-819e66abce50"
   },
   "outputs": [],
   "source": [
    "# Visualize the locations of the missing values of the dataset\n",
    "sorted = pco_hist.sort_values(by = ['id','price_date'])\n",
    "msno.matrix(sorted)\n"
   ]
  },
  {
   "cell_type": "markdown",
   "metadata": {
    "id": "mjzLUvww-ayD"
   },
   "source": [
    "The nullity matrix describes the nullity of the dataset and appears blank wherever there are missing values. \n",
    "\n",
    "The column on the very right summarizes the general shape of the data completeness and points out the row. Total count of columns at the bottom right."
   ]
  },
  {
   "cell_type": "code",
   "execution_count": null,
   "metadata": {
    "colab": {
     "base_uri": "https://localhost:8080/",
     "height": 796
    },
    "id": "IHaWQ2Yvfk2H",
    "outputId": "fcffd5ff-b43a-4844-acbd-bfb8e278820d"
   },
   "outputs": [],
   "source": [
    "# Visualize the correlation between the numeric variables of the dataframe\n",
    "msno.heatmap(pco_hist)"
   ]
  },
  {
   "cell_type": "code",
   "execution_count": null,
   "metadata": {
    "colab": {
     "base_uri": "https://localhost:8080/",
     "height": 359
    },
    "id": "U1iQBcZiezC6",
    "outputId": "64b3d96f-782b-43b7-d02e-f93a5387b9a5"
   },
   "outputs": [],
   "source": [
    "# Identify the index of the IDs containing missing values.\n",
    "hist_NAN_index = pco_hist[pco_hist.isnull().any(axis=1)].index.values.tolist()\n",
    "\n",
    "# Obtain a dataframe with the missing values\n",
    "pco_hist_missing = pco_hist.iloc[hist_NAN_index,:]\n",
    "\n",
    "# Glimpse at the NaN cases of the pco_hist dataset\n",
    "pco_hist_missing.head(10)"
   ]
  },
  {
   "cell_type": "code",
   "execution_count": null,
   "metadata": {
    "colab": {
     "base_uri": "https://localhost:8080/",
     "height": 421
    },
    "id": "d1HmwfIKpR4V",
    "outputId": "e81ba79a-293b-458d-a1cc-2a9cc58db6d5"
   },
   "outputs": [],
   "source": [
    "# extract the unique dates of missing data\n",
    "date_lst = pco_hist_missing['price_date'].unique()\n",
    "id_lst = pco_hist_missing['id'].unique()\n",
    "\n",
    "# Create a time dataframe with the unique dates\n",
    "time_df = pd.DataFrame(data=date_lst, columns=['price_date'] )\n",
    "\n",
    "# Glimpse the time dataframe\n",
    "time_df.sort_values(by=['price_date'])"
   ]
  },
  {
   "cell_type": "markdown",
   "metadata": {
    "id": "Cc2qpxlsbNCE"
   },
   "source": [
    "---\n",
    "# **Facts**\n",
    "\n",
    "* There is high correlation between the missingness in the numeric columns and is values, missing or non-missing\n",
    "* There are 1359 clients who are missing price data at least in 1 month"
   ]
  },
  {
   "cell_type": "markdown",
   "metadata": {
    "id": "IVikPIvgaCaK"
   },
   "source": [
    "---\n",
    "# **Observations** \n",
    "\n",
    "* After sorting the `pco_hist` dataset by `id` and `price_date`, we found that some columns are likely to be **MNAR**.\n",
    "* The columns containing prices display strong positive correlation  in the missingness suggests a case of **MNAR**. \n",
    "* This event suggest that multicolinearity might be present in the dataset. "
   ]
  },
  {
   "cell_type": "markdown",
   "metadata": {
    "id": "mv_M5bZv_sRU"
   },
   "source": [
    "# **Imputations**\n",
    "\n",
    "Imputing time-series data requires a specialized treatment. Time-series data usually comes with special characteristics such trend, seasonality and cyclicality of which we can exploit when imputing missing values in the data.\n",
    "\n",
    "In this particular dataset, there's not such thing as seasonality because it only has monthly data for one year."
   ]
  },
  {
   "cell_type": "markdown",
   "metadata": {
    "id": "PzP2alQ6IjWK"
   },
   "source": [
    "# **Filling Time Series Data**"
   ]
  },
  {
   "cell_type": "code",
   "execution_count": null,
   "metadata": {
    "colab": {
     "base_uri": "https://localhost:8080/"
    },
    "id": "u6zDdlmaOWQ1",
    "outputId": "5a709f90-c571-4027-fe8b-fa67b37e4e23"
   },
   "outputs": [],
   "source": [
    "# Make a copy of pco_hist dataset\n",
    "pco_hist_ff = pco_hist.copy(deep=True)\n",
    "\n",
    "# Print prior to imputing missing values\n",
    "print(pco_hist_ff.iloc[hist_NAN_index,3:9].head())\n",
    "\n",
    "# Fill NaNs using forward fill\n",
    "pco_hist_ff.fillna(method = 'ffill', inplace=True)\n",
    "\n",
    "print(pco_hist_ff.iloc[hist_NAN_index,3:9].head())\n"
   ]
  },
  {
   "cell_type": "code",
   "execution_count": null,
   "metadata": {
    "colab": {
     "base_uri": "https://localhost:8080/",
     "height": 297
    },
    "id": "mNlY4DFElf2Z",
    "outputId": "a86e824a-6f6a-4663-e896-94afa788a671"
   },
   "outputs": [],
   "source": [
    "pco_hist_ff.describe()"
   ]
  },
  {
   "cell_type": "code",
   "execution_count": null,
   "metadata": {
    "colab": {
     "base_uri": "https://localhost:8080/",
     "height": 204
    },
    "id": "d0JIHT6CbdQp",
    "outputId": "0e9edf42-fe1f-4492-d61e-3821f73315bc"
   },
   "outputs": [],
   "source": [
    "# Merge output dataset with historical forward fill dataset\n",
    "pco_hist_ff_merged = pco_hist_ff.merge(right=pco_output,on=['id'])\n",
    "pco_hist_ff_merged.head()"
   ]
  },
  {
   "cell_type": "markdown",
   "metadata": {
    "id": "T0WehwG4o78N"
   },
   "source": [
    "## **The Main Dataset**"
   ]
  },
  {
   "cell_type": "markdown",
   "metadata": {
    "id": "HszQu4DqpokO"
   },
   "source": [
    "### **Visualizing the amount of missingness**"
   ]
  },
  {
   "cell_type": "code",
   "execution_count": null,
   "metadata": {
    "colab": {
     "base_uri": "https://localhost:8080/",
     "height": 810
    },
    "id": "isnmlVaKUoRd",
    "outputId": "0ee9cb49-e407-433f-876c-83cd37afc880"
   },
   "outputs": [],
   "source": [
    "# Visualize the completeness of the dataframe\n",
    "msno.bar(pco_main)"
   ]
  },
  {
   "cell_type": "code",
   "execution_count": null,
   "metadata": {
    "colab": {
     "base_uri": "https://localhost:8080/",
     "height": 767
    },
    "id": "DUHoU5-aWOK8",
    "outputId": "9fff8886-38ce-438c-c5ea-850a9919cb1c"
   },
   "outputs": [],
   "source": [
    "# Visualize the locations of the missing values of the dataset\n",
    "msno.matrix(pco_main)"
   ]
  },
  {
   "cell_type": "code",
   "execution_count": null,
   "metadata": {
    "colab": {
     "base_uri": "https://localhost:8080/",
     "height": 767
    },
    "id": "9E1FjWq7dyLk",
    "outputId": "e3446ab1-b530-4d6b-e468-bf95d445e76b"
   },
   "outputs": [],
   "source": [
    "sorted_main = pco_main.sort_values('date_first_activ')\n",
    "msno.matrix(sorted_main)"
   ]
  },
  {
   "cell_type": "code",
   "execution_count": null,
   "metadata": {
    "colab": {
     "base_uri": "https://localhost:8080/",
     "height": 868
    },
    "id": "SxkghOctizk5",
    "outputId": "a7f043ad-f5b5-4471-9505-ffff749f06d9"
   },
   "outputs": [],
   "source": [
    "msno.heatmap(pco_main)"
   ]
  },
  {
   "cell_type": "code",
   "execution_count": null,
   "metadata": {
    "colab": {
     "base_uri": "https://localhost:8080/",
     "height": 266
    },
    "id": "nNF6cqCFxLZH",
    "outputId": "85215613-7692-4cb1-e3d1-f2e1256c3150"
   },
   "outputs": [],
   "source": [
    "# Demonstrate why the date_activ column cannot replace completely date_first_activ\n",
    "activity = ['date_activ','date_first_activ']\n",
    "\n",
    "# Filter the columns of interest\n",
    "pco_activity = pco_main[activity]\n",
    "\n",
    "# Obtain only the complete cases\n",
    "pco_activity_cc = pco_activity.dropna(subset=['date_first_activ'],how='any',inplace=False)\n",
    "\n",
    "# Test whether two objects contain the same elements.\n",
    "pco_activity_cc.date_activ.equals(pco_activity_cc.date_first_activ)\n",
    "\n",
    "# Describe it\n",
    "pco_activity_cc.describe(datetime_is_numeric=True) # Comparing dates in .describe() is depricated, might crash in the future"
   ]
  },
  {
   "cell_type": "code",
   "execution_count": null,
   "metadata": {
    "colab": {
     "base_uri": "https://localhost:8080/",
     "height": 767
    },
    "id": "Hy6Z8wAqwJRC",
    "outputId": "c72f7f49-ec5a-4a84-970a-7986bdfcf092"
   },
   "outputs": [],
   "source": [
    "# Drop the column activity_new and campaign_disc_elec\n",
    "pco_main_drop = pco_main.drop(labels= ['activity_new','campaign_disc_ele'] , axis=1)\n",
    "\n",
    "# Remove date_end date_modif_prod date_renewal origin_up pow_max margin_gross_pow_ele margin_net_pow_ele net_margin\n",
    "brush = ['date_end','date_modif_prod','date_renewal','origin_up','pow_max','margin_gross_pow_ele',\n",
    "         'margin_net_pow_ele', 'net_margin','forecast_discount_energy','forecast_price_energy_p1',\n",
    "         'forecast_price_energy_p2','forecast_price_pow_p1']\n",
    "pco_main_drop.dropna(subset=brush, how='any',inplace=True)\n",
    "\n",
    "msno.matrix(pco_main_drop)\n",
    "\n"
   ]
  },
  {
   "cell_type": "markdown",
   "metadata": {
    "id": "c90SPYGV2Fuu"
   },
   "source": [
    "# **Observations**\n",
    "* The variable `activity_new` is **MCAR** and has very low correlation with any of the variables. We can safely *drop* this column. \n",
    "* The variable `campaign_disc_elec` is completely missing at random on all rows. We can get rid of this column. This suggests that subscribers are not subscribing through campaings offers. \n",
    "* The variable `date_first_activ` cannot be replace by the values of the `date_activ` variable. **MAR**\n",
    "* `net_margin` is showing strong correlation between `margin_gross_pow_elec` and `margin_net_pow_ele`. Multicolinearity is likely here. \n",
    "* The variables `origin_up` and `pow_max` display no correlation with any variable and contain 0.54% and 0.01% of missingness respectively. These are **MCAR** and can be dropped listwise.\n",
    "* `Forecast_base_bill_ele`, `forecast_base_bill_year`, `forecast_bill_12m` and `forecast_cons` variables are highly correlated with the `date_first_activ` variable's missingness. Accouting for 78% of missing values in the formerly mention columns and therfore are **MNAR**.\n",
    "*Cannot replace the `date_first_activ` column with the `date_activ` column since in some of the cases the dates are not identical. "
   ]
  },
  {
   "cell_type": "code",
   "execution_count": null,
   "metadata": {
    "colab": {
     "base_uri": "https://localhost:8080/",
     "height": 419
    },
    "id": "OAHygiviD-DL",
    "outputId": "07bb1b67-45dd-469e-ad1d-a68f7c7e2a27"
   },
   "outputs": [],
   "source": [
    "# Choose the columns without missing values\n",
    "incomplete_cols = ['channel_sales','date_first_activ','forecast_base_bill_ele','forecast_base_bill_year','forecast_bill_12m','forecast_cons']\n",
    "\n",
    "complete_cols = [column_name for column_name in pco_main_drop.columns if column_name not in incomplete_cols]\n",
    "\n",
    "pco_main_cc = pco_main_drop[complete_cols]\n",
    "\n",
    "# Fix negative numeric variables\n",
    "numeric = [column_name for column_name in pco_main_cc.columns\n",
    "           if pco_main_cc[column_name].dtype == 'float64' \n",
    "           or pco_main_cc[column_name].dtype == 'int64']\n",
    "\n",
    "# Overwrite positive values on negative values\n",
    "pco_main_cc[numeric] = pco_main_cc[numeric].apply(abs)\n",
    "\n",
    "# Describe\n",
    "pco_main_cc.describe()\n"
   ]
  },
  {
   "cell_type": "code",
   "execution_count": null,
   "metadata": {
    "colab": {
     "base_uri": "https://localhost:8080/"
    },
    "id": "ielYRtw-LW9F",
    "outputId": "142053ba-f5f1-4249-ce12-5a3f6c98bb95"
   },
   "outputs": [],
   "source": [
    "# Convert the has_gas column to  Yes/No\n",
    "pco_main_cc['has_gas'] = pco_main_cc['has_gas'].replace({'t':'Yes','f':'No'})\n",
    "\n",
    "# Merge the main dataset with the output dataset\n",
    "pco_main_cc_merged = pco_main_cc.merge(right=pco_output,on=['id'])\n",
    "\n",
    "# Convert the churn column to Churned/Stayed\n",
    "pco_main_cc_merged['churn'] = pco_main_cc_merged['churn'].replace({1:'Churned',0:'Stayed'})"
   ]
  },
  {
   "cell_type": "code",
   "execution_count": null,
   "metadata": {
    "colab": {
     "base_uri": "https://localhost:8080/",
     "height": 309
    },
    "id": "S9QxuOjXFDmY",
    "outputId": "aed03d29-f58b-43a5-8869-be407f31dadb"
   },
   "outputs": [],
   "source": [
    "pco_main_cc_merged.head()"
   ]
  },
  {
   "cell_type": "code",
   "execution_count": null,
   "metadata": {
    "id": "sicQ5zpzmp7R"
   },
   "outputs": [],
   "source": [
    "# Obtain all the variables except for id\n",
    "variables = [column_name for column_name in pco_main_cc_merged.columns if column_name != 'id']\n",
    "\n",
    "# Obtain all the categorical variables except for id\n",
    "categorical = [column_name for column_name in variables if pco_main_cc_merged[column_name].dtype == 'object']\n",
    "\n",
    "# Obtain all the Date Variables\n",
    "dates = [column_name for column_name in variables if pco_main_cc_merged[column_name].dtype == 'datetime64[ns]']\n",
    "\n",
    "# Obtain all the numeric columns\n",
    "numeric = [column_name for column_name in variables\n",
    "           if column_name not in categorical \n",
    "           and column_name != 'id'\n",
    "           and column_name != 'churn'\n",
    "           and column_name not in dates]\n"
   ]
  },
  {
   "cell_type": "markdown",
   "metadata": {
    "id": "wnlR2YW0L40J"
   },
   "source": [
    "# **Data Visualization**\n",
    "\n",
    "Let's visualize what we've found."
   ]
  },
  {
   "cell_type": "markdown",
   "metadata": {
    "id": "iTKbeA9VWyYM"
   },
   "source": [
    "## **The Output Dataset**"
   ]
  },
  {
   "cell_type": "code",
   "execution_count": null,
   "metadata": {
    "colab": {
     "base_uri": "https://localhost:8080/",
     "height": 397
    },
    "id": "wsCFQpIXqpA_",
    "outputId": "699e640e-22ae-4d37-fcf3-d5afffd6df86"
   },
   "outputs": [],
   "source": [
    "# Calculate the zcores of tenure\n",
    "tenure_zcores = zscore(a=pco_main_cc_merged['num_years_antig'])\n",
    "# Convert to absolute values\n",
    "abs_tenure_zscores = np.abs(tenure_zcores)\n",
    "# Extract Columns of interest\n",
    "churn_tenure = pco_main_cc_merged[['churn','num_years_antig']]\n",
    "# Add z-score column\n",
    "churn_tenure['z_score'] = list(abs_tenure_zscores)\n",
    "# Remove outliers \n",
    "churned_tenure_filtered = churn_tenure[churn_tenure['z_score'] < 3]\n",
    "# Visualize tenure by retained customer and churner\n",
    "vio = sns.violinplot( y=churned_tenure_filtered[\"churn\"], x=churned_tenure_filtered[\"num_years_antig\"] )\n",
    "# Settings\n",
    "vio.set(xlabel='Years', ylabel='')\n",
    "vio.set_title(\"Customer Attrition by Tenure\")\n",
    "plt.show()"
   ]
  },
  {
   "cell_type": "markdown",
   "metadata": {
    "id": "gyMS0pWRLVS8"
   },
   "source": [
    "# **Facts**\n",
    "* The median age of churners is 4 years\n",
    "* Customers are more likely to churn during the 4th year than the 7th year\n",
    "* The median age of retained customers is 5 years\n"
   ]
  },
  {
   "cell_type": "markdown",
   "metadata": {
    "id": "U_pBMyJbuxFu"
   },
   "source": [
    "# **The Main Dataset**"
   ]
  },
  {
   "cell_type": "code",
   "execution_count": null,
   "metadata": {
    "colab": {
     "base_uri": "https://localhost:8080/"
    },
    "id": "SediMQ-6Ovw4",
    "outputId": "20abb6b4-42b3-492b-87be-aae0ad59eecc"
   },
   "outputs": [],
   "source": [
    "# Most popular electricty campaign\n",
    "ele_nm = pco_main_cc_merged.loc[(pco_main_cc_merged['churn']>='Stayed') & (pco_main_cc_merged['net_margin']>0),['id', 'origin_up','net_margin']]\n",
    "\n",
    "ele_nm.value_counts(subset=['origin_up'])"
   ]
  },
  {
   "cell_type": "code",
   "execution_count": null,
   "metadata": {
    "colab": {
     "base_uri": "https://localhost:8080/"
    },
    "id": "qNq4XAfXEpo4",
    "outputId": "08aac6ea-5099-41c6-bf72-3ee1a3099afe"
   },
   "outputs": [],
   "source": [
    "# Highest netting electricity subscription campaign\n",
    "print(ele_nm.groupby('origin_up')['net_margin'].agg('sum').sort_values(ascending=False))"
   ]
  },
  {
   "cell_type": "markdown",
   "metadata": {
    "id": "BD0xFNkdOxDY"
   },
   "source": [
    "### **Facts**\n",
    "* The most popular electricity campaign is `lxidpiddsbxsbosboudacockeimpuepw` which has brought 6,584 current customers.\n",
    "* The electricity campaign attributable to the highest total net margin is `lxidpiddsbxsbosboudacockeimpuepw`. Netting $1,541,159.95 in 2015."
   ]
  },
  {
   "cell_type": "markdown",
   "metadata": {
    "id": "7s_gRqFhEiAt"
   },
   "source": [
    "## **Caveats**\n"
   ]
  },
  {
   "cell_type": "code",
   "execution_count": null,
   "metadata": {
    "colab": {
     "base_uri": "https://localhost:8080/",
     "height": 359
    },
    "id": "juFSPmYPEhzB",
    "outputId": "56b4a19f-eeec-4bf1-f2fa-fa89308aa991"
   },
   "outputs": [],
   "source": [
    "# Select current customers with positive net margins\n",
    "top_customers = pco_main_cc_merged.loc[(pco_main_cc_merged['churn']>='Stayed') & (pco_main_cc_merged['net_margin']>0),['id','num_years_antig','net_margin']]\n",
    "\n",
    "# Top 10 customers by net margin\n",
    "top_customers.sort_values(by=['net_margin'],ascending=False).head(10)"
   ]
  },
  {
   "cell_type": "markdown",
   "metadata": {
    "id": "M20TvL2JTZXm"
   },
   "source": [
    "These are the most profitable customers for PowerCo in terms of net margin. Beware most of them are within the likely tenure of attrition. Time for a marketing campaign!"
   ]
  }
 ],
 "metadata": {
  "colab": {
   "authorship_tag": "ABX9TyMqmm5VCquBQGxHECEe80K+",
   "collapsed_sections": [
    "dv8p0_kw_qT9",
    "breBIS1DB2yl",
    "5RBczv7eDFFL",
    "jOgN20xWFKdj",
    "ssUbIgUTMv2p",
    "7JLa-5DVK-G3",
    "iTKbeA9VWyYM",
    "U_pBMyJbuxFu",
    "7s_gRqFhEiAt"
   ],
   "include_colab_link": true,
   "name": "EDA_Cleaning_BCG.ipynb",
   "provenance": [],
   "toc_visible": true
  },
  "kernelspec": {
   "display_name": "Python 3",
   "language": "python",
   "name": "python3"
  },
  "language_info": {
   "codemirror_mode": {
    "name": "ipython",
    "version": 3
   },
   "file_extension": ".py",
   "mimetype": "text/x-python",
   "name": "python",
   "nbconvert_exporter": "python",
   "pygments_lexer": "ipython3",
   "version": "3.8.5"
  }
 },
 "nbformat": 4,
 "nbformat_minor": 1
}
